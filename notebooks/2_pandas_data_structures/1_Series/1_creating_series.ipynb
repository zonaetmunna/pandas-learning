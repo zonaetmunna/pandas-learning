{
 "cells": [
  {
   "cell_type": "code",
   "execution_count": null,
   "id": "78500db2-cd80-4ec5-ab88-bf013f743275",
   "metadata": {},
   "outputs": [],
   "source": [
    "import pandas as pd\n",
    "\n",
    "# Creating a Series from a list\n",
    "data_list = [10, 20, 30, 40, 50]\n",
    "series_from_list = pd.Series(data_list)\n",
    "\n",
    "# Creating a Series from a NumPy array\n",
    "import numpy as np\n",
    "data_array = np.array([1, 2, 3, 4, 5])\n",
    "series_from_array = pd.Series(data_array)\n",
    "\n",
    "# Creating a Series from a dictionary\n",
    "data_dict = {'A': 10, 'B': 20, 'C': 30, 'D': 40, 'E': 50}\n",
    "series_from_dict = pd.Series(data_dict)\n",
    "\n",
    "print(series_from_list)\n",
    "print(series_from_array)\n",
    "print(series_from_dict)\n"
   ]
  }
 ],
 "metadata": {
  "kernelspec": {
   "display_name": "Python 3 (ipykernel)",
   "language": "python",
   "name": "python3"
  },
  "language_info": {
   "codemirror_mode": {
    "name": "ipython",
    "version": 3
   },
   "file_extension": ".py",
   "mimetype": "text/x-python",
   "name": "python",
   "nbconvert_exporter": "python",
   "pygments_lexer": "ipython3",
   "version": "3.11.4"
  }
 },
 "nbformat": 4,
 "nbformat_minor": 5
}
